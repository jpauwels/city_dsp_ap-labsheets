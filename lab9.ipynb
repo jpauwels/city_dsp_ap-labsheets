{
 "cells": [
  {
   "cell_type": "markdown",
   "metadata": {},
   "source": [
    "# Module INM378/IN3031: Digital Signal Processing and Audio Programming\n",
    "## Lab 9 - Image Processing"
   ]
  },
  {
   "cell_type": "markdown",
   "metadata": {},
   "source": [
    "### 0. Setup dependencies"
   ]
  },
  {
   "cell_type": "markdown",
   "metadata": {},
   "source": [
    "Get the resources from Github."
   ]
  },
  {
   "cell_type": "code",
   "execution_count": null,
   "metadata": {},
   "outputs": [],
   "source": [
    "try:\n",
    "    import google.colab\n",
    "    import subprocess\n",
    "    import os.path\n",
    "    p = subprocess.run(['git', 'rev-parse', '--is-inside-work-tree'], stdout=subprocess.PIPE, universal_newlines=True)\n",
    "    if p.stdout == 'true\\n':\n",
    "        !git pull\n",
    "    else:\n",
    "        if not os.path.isdir('city_dsp_ap'):\n",
    "            !git clone --depth 1 -q https://github.com/jpauwels/city_dsp_ap.git\n",
    "        %cd city_dsp_ap\n",
    "except:\n",
    "    %cd city_dsp_ap"
   ]
  },
  {
   "cell_type": "markdown",
   "metadata": {},
   "source": [
    "Import packages."
   ]
  },
  {
   "cell_type": "code",
   "execution_count": null,
   "metadata": {},
   "outputs": [],
   "source": [
    "import numpy as np\n",
    "import matplotlib.pyplot as plt\n",
    "from scipy.signal import convolve2d, correlate2d\n",
    "from skimage.io import imread\n",
    "from skimage.color import rgb2gray, rgb2hsv\n",
    "from skimage.util import invert, random_noise\n",
    "from skimage.filters import median, gaussian"
   ]
  },
  {
   "cell_type": "markdown",
   "metadata": {},
   "source": [
    "Configure plotting."
   ]
  },
  {
   "cell_type": "code",
   "execution_count": null,
   "metadata": {},
   "outputs": [],
   "source": [
    "plt.rcParams['figure.figsize'] = (13,6) # increase the default size of the plots\n",
    "plt.rcParams['image.cmap'] = 'gray' # set the default colourmap to greyscale"
   ]
  },
  {
   "cell_type": "markdown",
   "metadata": {},
   "source": [
    "### 1. Image loading\n",
    "\n",
    "In this lab, we're going to use [`scikit-image`](https://scikit-image.org/), a library that complements [`NumPy`](https://numpy.org) and [`SciPy`](https://scipy.org) with image-specific functionality. Note that its package name is abbreviated to **`skimage`** because Python doesn't allow hyphens in its names. A number of **example images** are available under `data/images`."
   ]
  },
  {
   "cell_type": "code",
   "execution_count": null,
   "metadata": {},
   "outputs": [],
   "source": [
    "%ls data/images"
   ]
  },
  {
   "cell_type": "markdown",
   "metadata": {},
   "source": [
    "**Load** the file `data/images/trees.tif` using the [`imread`](https://scikit-image.org/docs/dev/api/skimage.io.html#skimage.io.imread) function from [`skimage.io`](https://scikit-image.org/docs/dev/api/skimage.io.html)."
   ]
  },
  {
   "cell_type": "code",
   "execution_count": null,
   "metadata": {},
   "outputs": [],
   "source": [
    "# write your code here"
   ]
  },
  {
   "cell_type": "markdown",
   "metadata": {},
   "source": [
    "In order to **display** an image, you can use the [`plt.imshow`](https://matplotlib.org/api/_as_gen/matplotlib.pyplot.imshow.html) function from the [`Matplotlib`]() library we've been using for plotting before."
   ]
  },
  {
   "cell_type": "code",
   "execution_count": null,
   "metadata": {},
   "outputs": [],
   "source": [
    "# write your code here"
   ]
  },
  {
   "cell_type": "markdown",
   "metadata": {},
   "source": [
    "Display **each colour channel** (R, G, B) separately. `imread` returns a NumPy array of three dimensions: `rows (height)`, `columns (width)` and `colour`, so you can **address individual pixels** as `im[h, w, c]`. Like any NumPy array, you can access its elements using a simple index `i`, a range `p:q` or all elements in a dimension as `:`. For more information, check the [documentation on indexing arrays](https://docs.scipy.org/doc/numpy/reference/arrays.indexing.html)."
   ]
  },
  {
   "cell_type": "code",
   "execution_count": null,
   "metadata": {},
   "outputs": [],
   "source": [
    "# write your code here"
   ]
  },
  {
   "cell_type": "markdown",
   "metadata": {},
   "source": [
    "### 2. Greyscale conversion\n",
    "\n",
    "1. **Convert** the image into greyscale using the [`rgb2gray`](https://scikit-image.org/docs/dev/api/skimage.color.html#skimage.color.rgb2gray) **function** from [`skimage.color`](https://scikit-image.org/docs/dev/api/skimage.color.html). Note that `scikit.image` follows American English spelling, and therefore uses \"color\" and \"gray\" in its function names.\n",
    "2. **Convert** the image into greyscale using the **formula** $\\dfrac{R}{3}+\\dfrac{G}{3}+\\dfrac{B}{3}$. The division by 3 has to be done for each colour channel before adding them together, instead of the mathematically equivalent $\\dfrac{R+G+B}{3}$, because the limited range of datatype `np.uint8` ($[0-255]$) would otherwise overflow. Because the division by three automatically upcasts the datatype of the result to a `float`, we need to cast it back to `np.uint8` by applying the [`astype`](https://docs.scipy.org/doc/numpy/reference/generated/numpy.ndarray.astype.html) method."
   ]
  },
  {
   "cell_type": "code",
   "execution_count": null,
   "metadata": {},
   "outputs": [],
   "source": [
    "# write your code here"
   ]
  },
  {
   "cell_type": "markdown",
   "metadata": {},
   "source": [
    "### 3. Negative images\n",
    "\n",
    "Compute and display the **negative** of the manually created greyscale image created in task 2.\n",
    "\n",
    "1. using the [`invert`](https://scikit-image.org/docs/dev/api/skimage.util.html) **function** from [`skimage.util`](https://scikit-image.org/docs/dev/api/skimage.util.html).\n",
    "2. using the **formula** $q = L-1-p$ for each input pixel $p$, where $L$ is the number of grey levels for the datatype. In this case (i.e. `np.uint8`) it's 256."
   ]
  },
  {
   "cell_type": "code",
   "execution_count": null,
   "metadata": {},
   "outputs": [],
   "source": [
    "# write your code here"
   ]
  },
  {
   "cell_type": "markdown",
   "metadata": {},
   "source": [
    "### 4. Colour space conversion\n",
    "\n",
    "Convert the original RGB colour image into the HSV colour model with [`rgb2hsv`](https://scikit-image.org/docs/dev/api/skimage.color.html#skimage.color.rgb2hsv) from [`skimage.color`](https://scikit-image.org/docs/dev/api/skimage.color.html) and display its channels."
   ]
  },
  {
   "cell_type": "code",
   "execution_count": null,
   "metadata": {},
   "outputs": [],
   "source": [
    "# write your code here"
   ]
  },
  {
   "cell_type": "markdown",
   "metadata": {},
   "source": [
    "### 5. Noise addition\n",
    "\n",
    "Add **Gaussian** white noise with mean 0 and variance 0.1 to the original colour image with [`random_noise`](https://scikit-image.org/docs/stable/api/skimage.util.html?highlight=random_noise#skimage.util.random_noise) using [`gaussian`](https://scikit-image.org/docs/dev/api/skimage.filters.html#skimage.filters.gaussian) from [`skimage.filters`](https://scikit-image.org/docs/dev/api/skimage.filters.html) and display the result."
   ]
  },
  {
   "cell_type": "code",
   "execution_count": null,
   "metadata": {},
   "outputs": [],
   "source": [
    "# write your code here"
   ]
  },
  {
   "cell_type": "markdown",
   "metadata": {},
   "source": [
    "### 6. Image filtering\n",
    "\n",
    "Read the image file `data/boat.tif` and display it. **Apply** the following **filters** to the image and **display** their results.\n",
    "\n",
    "1. A **3x3 median filter** using [`median`](https://scikit-image.org/docs/dev/api/skimage.filters.html#skimage.filters.median) from [`skimage.filters`](https://scikit-image.org/docs/dev/api/skimage.filters.html).\n",
    "2. A **3x3 averaging filter** by creating the appropriate filter matrix yourself and applying it to the image using [`convolve2d`](https://docs.scipy.org/doc/scipy/reference/generated/scipy.signal.convolve2d.html) from [`scipy.signal`](https://docs.scipy.org/doc/scipy/reference/signal.html). For images, it's common to set the parameter `mode` of `convolve2d` to `same` such that the size of the resulting image is the same as the input image. In order to create a matrix with all elements the same value, you can use [`np.full`](https://docs.scipy.org/doc/numpy/reference/generated/numpy.full.html#numpy.full).\n",
    "3. A **3x3 Gaussian lowpass** filter with $\\sigma = 1$ using\n",
    "[`gaussian`](https://scikit-image.org/docs/dev/api/skimage.filters.html#skimage.filters.gaussian) from [`skimage.filters`](https://scikit-image.org/docs/dev/api/skimage.filters.html)."
   ]
  },
  {
   "cell_type": "code",
   "execution_count": null,
   "metadata": {},
   "outputs": [],
   "source": [
    "# write your code here"
   ]
  },
  {
   "cell_type": "markdown",
   "metadata": {},
   "source": [
    "### 7. 2D convolution and correlation\n",
    "\n",
    "Compute the 2D **convolution** and **correlation** of `a = [[1, 0, 0], [0, 1, 0], [0, 0, 0]]` and `b = [[0, 0, 0], [0, 1, 1], [0, 0, 0]]`."
   ]
  },
  {
   "cell_type": "code",
   "execution_count": null,
   "metadata": {},
   "outputs": [],
   "source": [
    "# write your code here"
   ]
  },
  {
   "cell_type": "markdown",
   "metadata": {},
   "source": [
    "**Verify** that the convolution can be calculated as a **correlation** with the second image **rotated 180 degrees**. You can rotate an image 180 degrees by applying [`np.rot90`](https://docs.scipy.org/doc/numpy/reference/generated/numpy.rot90.html) twice (check the `k` parameter) or by applying [`np.flipud`](https://docs.scipy.org/doc/numpy/reference/generated/numpy.fliplr.html) followed by [`np.fliplr`](https://docs.scipy.org/doc/numpy/reference/generated/numpy.flipud.html) (or the other way around)."
   ]
  },
  {
   "cell_type": "code",
   "execution_count": null,
   "metadata": {},
   "outputs": [],
   "source": [
    "# write your code here"
   ]
  },
  {
   "cell_type": "markdown",
   "metadata": {},
   "source": [
    "The rotation needs to be applied to the second image because the **correlation** is **not commutative**, whereas the **convolution is**. Verify this for both by swapping the order of their input arguments."
   ]
  },
  {
   "cell_type": "code",
   "execution_count": null,
   "metadata": {},
   "outputs": [],
   "source": [
    "# write your code here"
   ]
  },
  {
   "cell_type": "code",
   "execution_count": null,
   "metadata": {},
   "outputs": [],
   "source": []
  }
 ],
 "metadata": {
  "kernel_info": {
   "name": "python3"
  },
  "kernelspec": {
   "display_name": "Python 3",
   "language": "python",
   "name": "python3"
  },
  "language_info": {
   "codemirror_mode": {
    "name": "ipython",
    "version": 3
   },
   "file_extension": ".py",
   "mimetype": "text/x-python",
   "name": "python",
   "nbconvert_exporter": "python",
   "pygments_lexer": "ipython3",
   "version": "3.7.6"
  }
 },
 "nbformat": 4,
 "nbformat_minor": 1
}