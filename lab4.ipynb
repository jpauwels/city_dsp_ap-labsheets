{
 "cells": [
  {
   "cell_type": "markdown",
   "metadata": {},
   "source": [
    "## Module INM378/IN3031: Digital Signal Processing and Audio Programming\n",
    "# Lab 4"
   ]
  },
  {
   "cell_type": "markdown",
   "metadata": {},
   "source": [
    "### 0. Setup dependencies"
   ]
  },
  {
   "cell_type": "code",
   "execution_count": null,
   "metadata": {},
   "outputs": [],
   "source": [
    "try:\n",
    "    import google.colab\n",
    "    import subprocess\n",
    "    p = subprocess.run(['git', 'rev-parse', '--is-inside-work-tree'], stdout=subprocess.PIPE, universal_newlines=True)\n",
    "    if p.stdout != 'true\\n':\n",
    "        !git clone --depth 1 -q https://github.com/jpauwels/city_dsp_ap.git\n",
    "        %cd city_dsp_ap\n",
    "    else:\n",
    "        !git pull\n",
    "except:\n",
    "    %cd city_dsp_ap"
   ]
  },
  {
   "cell_type": "code",
   "execution_count": null,
   "metadata": {},
   "outputs": [],
   "source": [
    "import numpy as np\n",
    "from scipy import signal, fft\n",
    "import matplotlib.pyplot as plt\n",
    "from dsp_ap.operations import circ_convolution"
   ]
  },
  {
   "cell_type": "code",
   "execution_count": null,
   "metadata": {},
   "outputs": [],
   "source": [
    "plt.rcParams['figure.figsize'] = (13,8)"
   ]
  },
  {
   "cell_type": "markdown",
   "metadata": {},
   "source": [
    "### 1. Spectrum of window function\n",
    "\n",
    "Create a Hann window using the [`hann`](https://docs.scipy.org/doc/scipy/reference/generated/scipy.signal.windows.hann.html) function in `scipy.signal.windows` and calculate its FFT by using the [`rfft`](https://docs.scipy.org/doc/scipy/reference/generated/scipy.fft.rfft.html) function in `scipy.fft`. Note that we are relying on the fact that the window is a real-valued signal, so we can call the real-valued FFT. This is slightly more efficient and gives a simpler, one-sided output. By its definition, we know that the other half of the complete FFT output is its mirror image. For FFT transforms for different types of input, check the [documentation](https://docs.scipy.org/doc/scipy/reference/fft.html) of the `scipy.fft` module.\n",
    "\n",
    "Plot the absolute of the spectrum using [`np.abs`](https://docs.scipy.org/doc/numpy/reference/generated/numpy.absolute.html) and [`plt.plot`](https://matplotlib.org/api/_as_gen/matplotlib.pyplot.plot.html). Remember that you can start a new figure with [`plt.figure`]() and add a title to your plot with [`plt.title`]().\n",
    "\n",
    "Subtract the mean from the window function and observe how the symmetry of the spectrum changes (why?)."
   ]
  },
  {
   "cell_type": "code",
   "execution_count": null,
   "metadata": {},
   "outputs": [],
   "source": []
  },
  {
   "cell_type": "markdown",
   "metadata": {},
   "source": [
    "_answer here_"
   ]
  },
  {
   "cell_type": "markdown",
   "metadata": {},
   "source": [
    "### 2. Frequency-domain filtering\n",
    "\n",
    "Take the FFT (`scipy.fft.rfft`) of `audio/carrier.wav` and apply filtering in the frequency domain. That means you can apply a factor to a frequency band, amplify or delete it, or apply a sine function as an envelope over frequency.\n",
    "\n",
    "The easiest way to do this, is to manually create a frequency response of the same length as the spectrum and then apply it to the spectrum by multiplying the spectrum by the frequency response. So a frequency resonse of 1 for a certain bin will leave it unaltered, a value between 0 and 1 will reduce it and any values above 1 will amplify that frequency. You can generate sequences of zeros, ones or constant values with [`np.zeros`](https://docs.scipy.org/doc/numpy/reference/generated/numpy.zeros.html), [`np.ones`](https://docs.scipy.org/doc/numpy/reference/generated/numpy.ones.html) and [`np.full`](https://docs.scipy.org/doc/numpy/reference/generated/numpy.full.html), respectively. Then you can concatenate them with [`np.concatenate`](https://docs.scipy.org/doc/numpy/reference/generated/numpy.concatenate.html) until you achieve a frequency response of the same length as the spectrum.\n",
    "\n",
    "Finally apply the inverse FFT (function [`irfft`](https://docs.scipy.org/doc/scipy/reference/generated/scipy.fft.irfft.html) in `scipy.fft`) and listen to the resynthesized sound."
   ]
  },
  {
   "cell_type": "code",
   "execution_count": null,
   "metadata": {},
   "outputs": [],
   "source": []
  },
  {
   "cell_type": "markdown",
   "metadata": {},
   "source": [
    "### 3. Time-domain filtering\n",
    "\n",
    "Take the manually constructed frequency response you created in the previous section and transform it to the time domain using `fft.irfft` again. Convolve the result with the audio signal `audio/carrier.wav` and compare the result to that of the previous section. To get the exact equivalent of the spectral filtering for short signals, you need to apply the *circular* convolution (function `circ_convolution(signal1, signal2)`)."
   ]
  },
  {
   "cell_type": "code",
   "execution_count": null,
   "metadata": {},
   "outputs": [],
   "source": []
  },
  {
   "cell_type": "markdown",
   "metadata": {},
   "source": [
    "### 4. Real-time filtering\n",
    "\n",
    "Explain why we can apply filtering by convolution in real time, as opposed to frequency domain filtering? (Ignore the circular version of convolution mentioned above)."
   ]
  },
  {
   "cell_type": "markdown",
   "metadata": {},
   "source": [
    "_answer here_"
   ]
  },
  {
   "cell_type": "code",
   "execution_count": null,
   "metadata": {},
   "outputs": [],
   "source": []
  }
 ],
 "metadata": {
  "kernel_info": {
   "name": "python3"
  },
  "kernelspec": {
   "display_name": "Python 3",
   "language": "python",
   "name": "python3"
  },
  "language_info": {
   "codemirror_mode": {
    "name": "ipython",
    "version": 3
   },
   "file_extension": ".py",
   "mimetype": "text/x-python",
   "name": "python",
   "nbconvert_exporter": "python",
   "pygments_lexer": "ipython3",
   "version": "3.7.6"
  }
 },
 "nbformat": 4,
 "nbformat_minor": 1
}