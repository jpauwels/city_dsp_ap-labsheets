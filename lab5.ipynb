{
 "cells": [
  {
   "cell_type": "markdown",
   "metadata": {},
   "source": [
    "## Module INM378/IN3031: Digital Signal Processing and Audio Programming\n",
    "# Lab 5"
   ]
  },
  {
   "cell_type": "markdown",
   "metadata": {},
   "source": [
    "### 0. Setup dependencies"
   ]
  },
  {
   "cell_type": "code",
   "execution_count": null,
   "metadata": {},
   "outputs": [],
   "source": [
    "try:\n",
    "    import google.colab\n",
    "    import subprocess\n",
    "    p = subprocess.run(['git', 'rev-parse', '--is-inside-work-tree'], stdout=subprocess.PIPE, universal_newlines=True)\n",
    "    if p.stdout != 'true\\n':\n",
    "        !git clone --depth 1 -q https://github.com/jpauwels/city_dsp_ap.git\n",
    "        %cd city_dsp_ap\n",
    "    else:\n",
    "        !git pull\n",
    "except:\n",
    "    %cd city_dsp_ap"
   ]
  },
  {
   "cell_type": "code",
   "execution_count": null,
   "metadata": {},
   "outputs": [],
   "source": [
    "import numpy as np\n",
    "import matplotlib.pyplot as plt\n",
    "from scipy import signal"
   ]
  },
  {
   "cell_type": "code",
   "execution_count": null,
   "metadata": {},
   "outputs": [],
   "source": [
    "plt.rcParams['figure.figsize'] = (13,8)"
   ]
  },
  {
   "cell_type": "code",
   "execution_count": null,
   "metadata": {},
   "outputs": [],
   "source": [
    "plt.rcParams['figure.figsize']"
   ]
  },
  {
   "cell_type": "markdown",
   "metadata": {},
   "source": [
    "### 1. Filter response\n",
    "\n",
    "Study the phase and frequency response of a filter with coefficients `b = [0.032, -0.053, 0.047, -0.053, 0.032]` and `a = [1, -2.742, 3.735, -2.578, 0.885]`. Use the `scipy.signal` function [`freqz`](https://docs.scipy.org/doc/scipy/reference/generated/scipy.signal.freqz.html) and adapt the example given in the documentation to create a function `plot_filter(b, a)` that plots the frequency and phase response of a filter given by its coefficients `b` and `a`. Then use that function to check what type of filter this is."
   ]
  },
  {
   "cell_type": "code",
   "execution_count": null,
   "metadata": {},
   "outputs": [],
   "source": []
  },
  {
   "cell_type": "markdown",
   "metadata": {},
   "source": [
    "_answer here_"
   ]
  },
  {
   "cell_type": "markdown",
   "metadata": {},
   "source": [
    "### 2. Filter design\n",
    "\n",
    "In this part, we're going to analyse energy usage data given in `data/energy_usage.pkl` . The data in the file reflects the energy consumption of a kitchen, reporting a sample per minute."
   ]
  },
  {
   "cell_type": "markdown",
   "metadata": {},
   "source": [
    "#### 2.1. Step one\n",
    "\n",
    "[Unpickle](https://docs.python.org/3.7/library/pickle.html) the data. What is its sampling frequency? How many minutes are recorded?"
   ]
  },
  {
   "cell_type": "code",
   "execution_count": null,
   "metadata": {},
   "outputs": [],
   "source": []
  },
  {
   "cell_type": "markdown",
   "metadata": {},
   "source": [
    "_answer here_"
   ]
  },
  {
   "cell_type": "markdown",
   "metadata": {},
   "source": [
    "#### 2.2 Step two\n",
    "\n",
    "Calculate the power spectrogram in dB of the data using the [`stft`](https://docs.scipy.org/doc/scipy/reference/generated/scipy.signal.spectrogram.html) function in `scipy.signal`. Try a window size of 1024 samples and larger. Check the documentation for an example on how to visualise the spectrogram. You can adjust the range of the x-axis and y-axis with [`plt.xlim`](https://matplotlib.org/api/_as_gen/matplotlib.pyplot.xlim.html) and [`plt.ylim`](https://matplotlib.org/api/_as_gen/matplotlib.pyplot.ylim.html) respectively. This can be used to zoom in on particular sections of the plot. Remember that the output of the STFT are complex numbers, so you will need to convert it to a power spectrogram in dB yourself. Finally turn your code into a function `plot_spectrogram(time_signal, samplerate)` such that it can be reused later.\n",
    "\n",
    "What happens at the low frequencies? Can you detect any patterns? At which time in minutes do they appear? Name the position in minutes and frequency in Hz of two distinct energy consumption patterns you find? (report the lowest prominent frequency)."
   ]
  },
  {
   "cell_type": "code",
   "execution_count": null,
   "metadata": {},
   "outputs": [],
   "source": []
  },
  {
   "cell_type": "markdown",
   "metadata": {},
   "source": [
    "_answer here_"
   ]
  },
  {
   "cell_type": "markdown",
   "metadata": {},
   "source": [
    "#### 2.3 Step three\n",
    "\n",
    "Use the function [`firls`](https://docs.scipy.org/doc/scipy/reference/generated/scipy.signal.firls.html) from `scipy.filter` to design a FIR low-pass filter that reduces the high-frequency content in the energy data. Use the `plot_filter` function you created earlier to visualise its frequency and phase response. Play around with the parameters of `firls` and see what effect they have on the resulting filter. Then apply your filter to the signal with [`lfilter`](https://docs.scipy.org/doc/scipy/reference/generated/scipy.signal.lfilter.html). Use the function `plot_before_after` given below to visualise the two signals and reuse your `plot_spectrogram` function to display the spectrogram of the signal after filtering."
   ]
  },
  {
   "cell_type": "code",
   "execution_count": null,
   "metadata": {},
   "outputs": [],
   "source": [
    "def plot_before_after(before_signal, after_signal, samplerate):\n",
    "    fig = plt.figure()\n",
    "    timepoints = np.arange(len(before_signal)) / samplerate\n",
    "    plt.plot(timepoints, before_signal, 'b', timepoints, after_signal, 'g')\n",
    "    plt.xlabel('time [s]')\n",
    "    plt.ylabel('amplitude')\n",
    "    plt.legend(['before', 'after'])\n",
    "    plt.show()"
   ]
  },
  {
   "cell_type": "code",
   "execution_count": null,
   "metadata": {},
   "outputs": [],
   "source": []
  },
  {
   "cell_type": "markdown",
   "metadata": {},
   "source": [
    "To get a filter response that's closer to the specification for the same number of taps, we can use an IIR filter. We design one with the [`iirdesign`](https://docs.scipy.org/doc/scipy/reference/generated/scipy.signal.iirdesign.html) function of `scipy.signal`. Many different types of filter can be chosen, but we'll use a Butterworth type (so set `ftype='butter'` as input argument) here.\n",
    "\n",
    "We'll repeat the same procedure we just did with the FIR filter, but with one important difference. Representing a filter as its transfer function coefficients (numerator `B` and denominator `A`) might be intuitive, but it is not numerically stable. A better way to store a filter is as so-called second-order sections (`SOS`). We need this representation for our IIR filter, otherwise the `lfilter` function will return `NaN`s (try it first if you like). To obtains `SOS`es instead of transfer function coefficients, you need to pass `output=sos` to `iirdesign`. You can use [`sos2ft`](https://docs.scipy.org/doc/scipy/reference/generated/scipy.signal.tf2sos.html) to convert the result into `B` and `A` so you can keep using your `plot_filter` function for visualisation (numerical issues won't be a problem for that). Finally, instead of applying `lfilter` to filter the signal, you need to use [`sosfilt`](https://docs.scipy.org/doc/scipy/reference/generated/scipy.signal.sosfilt.html).\n",
    "\n",
    "Can you now isolate some specific frequencies using an IIR band-pass filter?"
   ]
  },
  {
   "cell_type": "code",
   "execution_count": null,
   "metadata": {},
   "outputs": [],
   "source": []
  },
  {
   "cell_type": "markdown",
   "metadata": {},
   "source": [
    "### 3. Filtering audio signals\n",
    "\n",
    "Use the same `firls` and `iirdesign` functions as in the previous questions to create high pass and low pass filters and apply them to an audio signal, (e.g. the `audio/carrier.wav` file used in lab 4). Verify your filter effects by listening and by plotting spectrograms."
   ]
  },
  {
   "cell_type": "code",
   "execution_count": null,
   "metadata": {},
   "outputs": [],
   "source": []
  },
  {
   "cell_type": "code",
   "execution_count": null,
   "metadata": {},
   "outputs": [],
   "source": []
  }
 ],
 "metadata": {
  "kernel_info": {
   "name": "python3"
  },
  "kernelspec": {
   "display_name": "Python 3",
   "language": "python",
   "name": "python3"
  },
  "language_info": {
   "codemirror_mode": {
    "name": "ipython",
    "version": 3
   },
   "file_extension": ".py",
   "mimetype": "text/x-python",
   "name": "python",
   "nbconvert_exporter": "python",
   "pygments_lexer": "ipython3",
   "version": "3.7.6"
  }
 },
 "nbformat": 4,
 "nbformat_minor": 1
}