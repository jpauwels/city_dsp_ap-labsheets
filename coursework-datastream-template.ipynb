{
 "cells": [
  {
   "cell_type": "markdown",
   "metadata": {},
   "source": [
    "## Setup dependencies"
   ]
  },
  {
   "cell_type": "code",
   "execution_count": null,
   "metadata": {},
   "outputs": [],
   "source": [
    "try:\n",
    "    import google.colab\n",
    "    import subprocess\n",
    "    import os.path\n",
    "    p = subprocess.run(['git', 'rev-parse', '--is-inside-work-tree'], stdout=subprocess.PIPE, universal_newlines=True)\n",
    "    if p.stdout == 'true\\n':\n",
    "        !git pull\n",
    "    else:\n",
    "        if not os.path.isdir('city_dsp_ap'):\n",
    "            !git clone --depth 1 -q https://github.com/jpauwels/city_dsp_ap.git\n",
    "        %cd city_dsp_ap\n",
    "except:\n",
    "    %cd city_dsp_ap"
   ]
  },
  {
   "cell_type": "code",
   "execution_count": null,
   "metadata": {},
   "outputs": [],
   "source": [
    "import numpy as np\n",
    "from scipy import fft, signal\n",
    "import matplotlib.pyplot as plt\n",
    "from skimage.transform import rotate\n",
    "from skimage.util import random_noise"
   ]
  },
  {
   "cell_type": "markdown",
   "metadata": {},
   "source": [
    "## Digit recognition\n",
    "\n",
    "In this part, you're going to use images of handwritten digits ranging from 0 to 9. They are split in a training set and a test set and stored as text files in `data/digits-training.txt` and `data/digits-test.txt`."
   ]
  },
  {
   "cell_type": "code",
   "execution_count": null,
   "metadata": {},
   "outputs": [],
   "source": [
    "%ls data/digits-*.txt"
   ]
  },
  {
   "cell_type": "code",
   "execution_count": null,
   "metadata": {},
   "outputs": [],
   "source": [
    "from itertools import islice\n",
    "import re\n",
    "\n",
    "def read_digit_pixels_and_labels(path):\n",
    "    with open(path) as f:\n",
    "        header = list(islice(f, 21))\n",
    "        pixel_height = [int(x[1]) for x in map(lambda r: re.match('entheight = (\\d+)', r), header) if x][0]\n",
    "        num_digits = [int(x[1]) for x in map(lambda r: re.match('ntot = (\\d+)', r), header) if x][0]\n",
    "        digit_pixels = []\n",
    "        labels = []\n",
    "        for _ in range(num_digits):\n",
    "            chunk = list(islice(f, pixel_height+1))\n",
    "            digit_pixels.append(np.loadtxt(chunk[:-1]))\n",
    "            labels.append(int(chunk[-1]))\n",
    "    return digit_pixels, labels"
   ]
  },
  {
   "cell_type": "markdown",
   "metadata": {},
   "source": [
    "Since the text files have a custom format, a loader function `read_digit_pixels_and_labels` is provided."
   ]
  },
  {
   "cell_type": "code",
   "execution_count": null,
   "metadata": {},
   "outputs": [],
   "source": [
    "training_digits, training_labels = read_digit_pixels_and_labels('data/digits-training.txt')\n",
    "test_digits, test_labels = read_digit_pixels_and_labels('data/digits-test.txt')"
   ]
  },
  {
   "cell_type": "code",
   "execution_count": null,
   "metadata": {},
   "outputs": [],
   "source": [
    "len(training_digits), len(training_labels), len(test_digits), len(test_labels)"
   ]
  },
  {
   "cell_type": "markdown",
   "metadata": {},
   "source": [
    "All digits and their associated labels have now been read into lists, so we can use list indexing to access them and, for instance, display them as below."
   ]
  },
  {
   "cell_type": "code",
   "execution_count": null,
   "metadata": {},
   "outputs": [],
   "source": [
    "index = 1\n",
    "plt.figure()\n",
    "plt.imshow(training_digits[index])\n",
    "plt.show()\n",
    "print('Image of digit {}'.format(training_labels[index]))"
   ]
  },
  {
   "cell_type": "markdown",
   "metadata": {},
   "source": [
    "Using this data, your task is to:\n",
    "\n",
    "1. Create a function for comparing each test image with the collection of training images, using the correlation with each training image without offset (i.e. calculate the sum of the element-wise multiplied images).\n",
    "2. Estimate the most likely label for each test image by matching with the training image that has maximal correlation.\n",
    "3. Estimate the accuracy of your system, as a fraction of the correctly estimated test labels over the total number of test images.\n",
    "4. Use the two-dimensional correlation function [`signal.correlate2d`](https://docs.scipy.org/doc/scipy/reference/generated/scipy.signal.correlate2d.html) to find the best match over all image offsets. For efficiency you can use a subset of the training images, or calculate an average of the training images.\n",
    "5. Implement variants of the digit recognition system, e.g.\n",
    "    - use the negatives of the training and test images instead of the positive images\n",
    "    - use images that are slightly rotated in your training set (using [`rotate`](https://scikit-image.org/docs/dev/api/skimage.transform.html#skimage.transform.rotate) from the `scikit-image.transform` library)\n",
    "    - use images with some noise added in your training set (using [`random_noise`](https://scikit-image.org/docs/dev/api/skimage.util.html#random-noise) from the `scikit-image.util` library)\n",
    "6. Report the accuracy of the new system and compare with the accuracy of the previous systems.\n",
    "7. In the written report, discuss and reason about the different performances of your classifiers."
   ]
  },
  {
   "cell_type": "markdown",
   "metadata": {},
   "source": [
    "## Time series prediction with financial data\n",
    "\n",
    "In this part, you're going to use long term US stock market data (monthly indices, dividends, earnings, etc. since 1871). Information about the data provenance and references can be found at http://www.econ.yale.edu/~shiller/data.htm (especially the 2nd paragraph). The data is available in the file `data/financial_data.csv`.\n",
    "\n",
    "It is stored as comma-separated numerical values, with a header containing column names. Therefore we can use [`np.genfromtxt`](https://docs.scipy.org/doc/numpy/reference/generated/numpy.genfromtxt.html#numpy.genfromtxt) to read it."
   ]
  },
  {
   "cell_type": "code",
   "execution_count": null,
   "metadata": {},
   "outputs": [],
   "source": [
    "financial = np.genfromtxt('data/financial_data.csv', delimiter=',', skip_header=2, names=True)"
   ]
  },
  {
   "cell_type": "markdown",
   "metadata": {},
   "source": [
    "The result is a structured array, which means that we can access each of the columns in the table by its name. The list of all colums can be found below."
   ]
  },
  {
   "cell_type": "code",
   "execution_count": null,
   "metadata": {},
   "outputs": [],
   "source": [
    "financial.dtype.names"
   ]
  },
  {
   "cell_type": "markdown",
   "metadata": {},
   "source": [
    "You can access the columns using their names between square brackets, like you would for a dictionary. It's advised to store the columns you need in helper variables, to avoid long statements resulting from the long column names."
   ]
  },
  {
   "cell_type": "code",
   "execution_count": null,
   "metadata": {},
   "outputs": [],
   "source": [
    "date = financial['Date']\n",
    "cape = financial['Cyclically_Adjusted_Price_Earnings_Ratio_PE10_or_CAPE']"
   ]
  },
  {
   "cell_type": "markdown",
   "metadata": {},
   "source": [
    "Now you can easily use the data, for instance to plot it."
   ]
  },
  {
   "cell_type": "code",
   "execution_count": null,
   "metadata": {},
   "outputs": [],
   "source": [
    "plt.figure()\n",
    "plt.plot(date, cape)\n",
    "plt.title('Evolution of CAPE over time')\n",
    "plt.show()"
   ]
  },
  {
   "cell_type": "markdown",
   "metadata": {},
   "source": [
    "Using this data, your task is to:\n",
    "\n",
    "1. Look for long term trends on a linear and log scale and de-trend the data first.\n",
    "2. Calculate the FFT of the signal of interest, to estimate possible periodicities. You can use a window to avoid spectral leaking.\n",
    "3. Refine your analysis by adjusting the size of the dataset (e.g. if you model annual patterns, make sure your dataset size is a multiple of 12)."
   ]
  },
  {
   "cell_type": "code",
   "execution_count": null,
   "metadata": {},
   "outputs": [],
   "source": []
  }
 ],
 "metadata": {
  "kernel_info": {
   "name": "python3"
  },
  "kernelspec": {
   "display_name": "Python 3",
   "language": "python",
   "name": "python3"
  },
  "language_info": {
   "codemirror_mode": {
    "name": "ipython",
    "version": 3
   },
   "file_extension": ".py",
   "mimetype": "text/x-python",
   "name": "python",
   "nbconvert_exporter": "python",
   "pygments_lexer": "ipython3",
   "version": "3.7.6"
  }
 },
 "nbformat": 4,
 "nbformat_minor": 1
}