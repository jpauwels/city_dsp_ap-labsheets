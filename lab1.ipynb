{
 "cells": [
  {
   "cell_type": "markdown",
   "metadata": {},
   "source": [
    "## Module INM378/IN3031: Digital Signal Processing and Audio Programming\n",
    "# Lab 1"
   ]
  },
  {
   "cell_type": "markdown",
   "metadata": {},
   "source": [
    "### 0.  Setup dependencies"
   ]
  },
  {
   "cell_type": "code",
   "execution_count": null,
   "metadata": {},
   "outputs": [],
   "source": [
    "try:\n",
    "    import google.colab\n",
    "    import subprocess\n",
    "    p = subprocess.run(['git', 'rev-parse', '--is-inside-work-tree'], stdout=subprocess.PIPE, universal_newlines=True)\n",
    "    if p.stdout != 'true\\n':\n",
    "        !git clone --depth 1 -q https://github.com/jpauwels/city_dsp_ap.git\n",
    "        %cd city_dsp_ap\n",
    "    else:\n",
    "        !git pull\n",
    "except:\n",
    "    %cd city_dsp_ap"
   ]
  },
  {
   "cell_type": "code",
   "execution_count": null,
   "metadata": {},
   "outputs": [],
   "source": [
    "from dsp_ap.signals import *\n",
    "import numpy as np"
   ]
  },
  {
   "cell_type": "markdown",
   "metadata": {},
   "source": [
    "### 1. Making a sound\n",
    "\n",
    "Execute the code snippet below and listen to the result. Change the frequency and amplitude of the sinusoid and listen to it again."
   ]
  },
  {
   "cell_type": "code",
   "execution_count": null,
   "metadata": {},
   "outputs": [],
   "source": [
    "freq1 = 500 # freq in Hz\n",
    "amp1 = 0.5 # amplitude factor \n",
    "samplerate = 44100 # % sample rate in Hz\n",
    "duration = 0.8 # sound duration in seconds\n",
    "timepoints = np.arange(samplerate * duration) / samplerate\n",
    "samples1 = amp1 * np.sin(2 * np.pi * freq1 * timepoints) # samples vector\n",
    "AudioSignal(samples1, samplerate).play()"
   ]
  },
  {
   "cell_type": "markdown",
   "metadata": {},
   "source": [
    "Create another sinusoid with twice the frequency (using a new variable `samples2`) and listen to it."
   ]
  },
  {
   "cell_type": "code",
   "execution_count": null,
   "metadata": {},
   "outputs": [],
   "source": []
  },
  {
   "cell_type": "markdown",
   "metadata": {},
   "source": [
    "Produce a mixed signal by adding the two sinusoids together and listen to the result."
   ]
  },
  {
   "cell_type": "code",
   "execution_count": null,
   "metadata": {},
   "outputs": [],
   "source": []
  },
  {
   "cell_type": "markdown",
   "metadata": {},
   "source": [
    "Change the amplitude of the additional sinusoid (using a new variable `amp2`) and listen to it again and to the mix."
   ]
  },
  {
   "cell_type": "code",
   "execution_count": null,
   "metadata": {},
   "outputs": [],
   "source": []
  },
  {
   "cell_type": "markdown",
   "metadata": {},
   "source": [
    "### 2. Frequency analysis in Audacity\n",
    "\n",
    "Download the following two sweep files: [20-16000HzLin5sec.mp3](audio/20-16000HzLin5sec.mp3) and [20-16000HzExp5sec.mp3\n",
    "](audio/20-16000HzExp5sec.mp3). Load them into Audacity (installed on the lab machines).\n",
    "\n",
    "1. Switch the view to `Spectrum` and `Spectrum Log`.\n",
    "2. Describe what you see, think about what it means."
   ]
  },
  {
   "cell_type": "markdown",
   "metadata": {},
   "source": [
    "_answer here_"
   ]
  },
  {
   "cell_type": "markdown",
   "metadata": {},
   "source": [
    "### 3. Summing sine waves\n",
    "\n",
    "Adding two sine waves in perfect synchronisation (same starting points) doubles the amplitude compared to one.\n",
    "\n",
    "1. The power of a signal is quadratic to the amplitude, what does this mean for the power of two added sinusoids?\n",
    "2. Express the amplitude and power increase in dB."
   ]
  },
  {
   "cell_type": "markdown",
   "metadata": {},
   "source": [
    "_answer here_"
   ]
  },
  {
   "cell_type": "markdown",
   "metadata": {},
   "source": [
    "### 4. Extra task: influence of sampling frequency\n",
    "\n",
    "Try changing the sine frequency and sampling frequency in the first snippet (replicated below for convenience).\n",
    "\n",
    "1. Reduce the sampling frequency to 8000 Hz and listen to the output. Is there any difference?\n",
    "2. With 8000 Hz sampling frequency, increase the sine tone frequency in steps of 500 Hz until 5000 Hz and listen to the output at each step. Try to interpret what you hear."
   ]
  },
  {
   "cell_type": "code",
   "execution_count": null,
   "metadata": {},
   "outputs": [],
   "source": [
    "freq1 = 500 # freq in Hz\n",
    "amp1 = 0.5 # amplitude factor \n",
    "samplerate = 44100 # % sample rate in Hz\n",
    "duration = 0.8 # sound duration in seconds\n",
    "timepoints = np.arange(samplerate * duration) / samplerate\n",
    "samples1 = amp1 * np.sin(2 * np.pi * freq1 * timepoints) # samples vector\n",
    "AudioSignal(samples1, samplerate).play()"
   ]
  },
  {
   "cell_type": "markdown",
   "metadata": {},
   "source": [
    "_answer here_"
   ]
  },
  {
   "cell_type": "code",
   "execution_count": null,
   "metadata": {},
   "outputs": [],
   "source": []
  },
  {
   "cell_type": "code",
   "execution_count": null,
   "metadata": {},
   "outputs": [],
   "source": []
  }
 ],
 "metadata": {
  "kernel_info": {
   "name": "python3"
  },
  "kernelspec": {
   "display_name": "Python 3",
   "language": "python",
   "name": "python3"
  },
  "language_info": {
   "codemirror_mode": {
    "name": "ipython",
    "version": 3
   },
   "file_extension": ".py",
   "mimetype": "text/x-python",
   "name": "python",
   "nbconvert_exporter": "python",
   "pygments_lexer": "ipython3",
   "version": "3.7.6"
  }
 },
 "nbformat": 4,
 "nbformat_minor": 1
}