{
 "cells": [
  {
   "cell_type": "markdown",
   "metadata": {},
   "source": [
    "# Module INM378/IN3031: Digital Signal Processing and Audio Programming\n",
    "## Lab 1 - Getting Started with Digital Signals"
   ]
  },
  {
   "cell_type": "markdown",
   "metadata": {},
   "source": [
    "### 0.  Setting up dependencies \n",
    "This step is for installing the latest version of the dsp_ap library code from GitHub."
   ]
  },
  {
   "cell_type": "code",
   "execution_count": null,
   "metadata": {},
   "outputs": [],
   "source": [
    "try:\n",
    "    import google.colab\n",
    "    import subprocess\n",
    "    import os.path\n",
    "    p = subprocess.run(['git', 'rev-parse', '--is-inside-work-tree'], stdout=subprocess.PIPE, universal_newlines=True)\n",
    "    if p.stdout == 'true\\n':\n",
    "        !git pull\n",
    "    else:\n",
    "        if not os.path.isdir('city_dsp_ap'):\n",
    "            !git clone --depth 1 -q https://github.com/jpauwels/city_dsp_ap.git\n",
    "        %cd city_dsp_ap\n",
    "except:\n",
    "    %cd city_dsp_ap"
   ]
  },
  {
   "cell_type": "markdown",
   "metadata": {},
   "source": [
    "After installation we can import the `dsp_ap.signals` package and `numpy`."
   ]
  },
  {
   "cell_type": "code",
   "execution_count": null,
   "metadata": {},
   "outputs": [],
   "source": [
    "from dsp_ap.signals import *\n",
    "import numpy as np"
   ]
  },
  {
   "cell_type": "markdown",
   "metadata": {},
   "source": [
    "### 1. Making a sound\n",
    "\n",
    "The code snippet generates a sinusoid (a sine-like wave). \n",
    "We first define the paramters frequency, amplitude, and sample rate, and then create an array of time points for the samples. \n",
    "Then we generate the samples (`samples1`) and then create an `AudioSignal` object (this is a class from the `dsp_ap package`). `AudioSingal` generates playable audio, that you then can listen to. \n",
    "\n",
    "If it works, change the frequency and amplitude values, regenerate the signal by executing the cell again, and listen to it again. \n",
    "\n",
    "Why is the `AudioSignal` sample rate information needed for the playback?"
   ]
  },
  {
   "cell_type": "code",
   "execution_count": null,
   "metadata": {},
   "outputs": [],
   "source": [
    "freq1 = 400 # freq in Hz\n",
    "amp1 = 0.5 # amplitude factor \n",
    "samplerate = 44100 # % sample rate in Hz\n",
    "duration = 0.8 # sound duration in seconds\n",
    "timepoints = np.arange(samplerate * duration) / samplerate\n",
    "samples1 = amp1 * np.sin(2 * np.pi * freq1 * timepoints) # samples vector\n",
    "signal1 = AudioSignal(samples1, samplerate)\n",
    "signal1.play()\n",
    "signal1.display(x_range=(0, 0.05))"
   ]
  },
  {
   "cell_type": "markdown",
   "metadata": {},
   "source": [
    "Now, create another sinusoid with twice the frequency (using a new variable `samples2`). \n",
    "You only need a new frequency value, you can reuse the amplitude and sample rate variables. \n",
    "Then listen to the new sound and compare it to the previous."
   ]
  },
  {
   "cell_type": "code",
   "execution_count": null,
   "metadata": {},
   "outputs": [],
   "source": []
  },
  {
   "cell_type": "markdown",
   "metadata": {},
   "source": [
    "Now, produce a mixed signal by adding the two sinusoids together. \n",
    "For this, you can just use `+` on the sample arrays, like you would for individual numbers. \n",
    "\n",
    "Again, listen to the result. They should blend very well, and sound similar to the first signal (`samples1`)."
   ]
  },
  {
   "cell_type": "code",
   "execution_count": null,
   "metadata": {},
   "outputs": [],
   "source": []
  },
  {
   "cell_type": "markdown",
   "metadata": {},
   "source": [
    "Finally, change the amplitude of the additional sinusoid (using a new variable `amp2`) and listen to the result.  \n",
    "\n",
    "Now listen to the new mix and compare to the version above. You can notice a - relatively subtle - change in the timbre (tone 'quality' or 'colour')."
   ]
  },
  {
   "cell_type": "code",
   "execution_count": null,
   "metadata": {},
   "outputs": [],
   "source": []
  },
  {
   "cell_type": "markdown",
   "metadata": {},
   "source": [
    "### 2. Frequency analysis in Audacity\n",
    "\n",
    "Download the following two sweep files: [20-16000HzLin5sec.mp3](https://github.com/jpauwels/city_dsp_ap/raw/master/audio/20-16000HzLin5sec.mp3) and [20-16000HzExp5sec.mp3\n",
    "](https://github.com/jpauwels/city_dsp_ap/raw/master/audio/20-16000HzExp5sec.mp3). Load them into Audacity (installed on the lab machines).\n",
    "\n",
    "1. Analyse the frequencies in the signal (Menu: `Analyze` -> `Plot Spectrum...`). Flip the axis between `Linear frequency` and `Log frequency`.\n",
    "2. Describe what you see, and think about what it means."
   ]
  },
  {
   "cell_type": "markdown",
   "metadata": {},
   "source": [
    "_answer here_"
   ]
  },
  {
   "cell_type": "markdown",
   "metadata": {},
   "source": [
    "### 3. Summing sine waves\n",
    "\n",
    "Adding two sine waves in perfect synchronisation (same starting points) doubles the amplitude compared to one.\n",
    "\n",
    "1. The power of a signal is quadratic to the amplitude, what does this mean for the power of two added sinusoids?\n",
    "2. Express the amplitude and power increase in dB."
   ]
  },
  {
   "cell_type": "markdown",
   "metadata": {},
   "source": [
    "_answer here_"
   ]
  },
  {
   "cell_type": "markdown",
   "metadata": {},
   "source": [
    "### 4. Extra task: influence of sampling frequency\n",
    "\n",
    "Try changing the sine frequency and sampling frequency in the first snippet (replicated below for convenience).\n",
    "\n",
    "1. Reduce the sampling frequency to 8000 Hz and listen to the output. Is there any difference?\n",
    "2. With 8000 Hz sampling frequency, increase the sine tone frequency in steps of 1000 Hz until 5500 Hz and listen to the output at each step. Try to interpret what you hear."
   ]
  },
  {
   "cell_type": "code",
   "execution_count": null,
   "metadata": {},
   "outputs": [],
   "source": [
    "freq1 = 400 # freq in Hz\n",
    "amp1 = 0.5 # amplitude factor \n",
    "samplerate = 44100 # % sample rate in Hz\n",
    "duration = 0.8 # sound duration in seconds\n",
    "timepoints = np.arange(samplerate * duration) / samplerate\n",
    "samples1 = amp1 * np.sin(2 * np.pi * freq1 * timepoints) # samples vector\n",
    "signal1 = AudioSignal(samples1, samplerate)\n",
    "signal1.play()\n",
    "signal1.display(x_range=(0, 0.05))"
   ]
  },
  {
   "cell_type": "markdown",
   "metadata": {},
   "source": [
    "_answer here_"
   ]
  },
  {
   "cell_type": "code",
   "execution_count": null,
   "metadata": {},
   "outputs": [],
   "source": []
  },
  {
   "cell_type": "code",
   "execution_count": null,
   "metadata": {},
   "outputs": [],
   "source": []
  }
 ],
 "metadata": {
  "kernel_info": {
   "name": "python3"
  },
  "kernelspec": {
   "display_name": "Python 3",
   "language": "python",
   "name": "python3"
  },
  "language_info": {
   "codemirror_mode": {
    "name": "ipython",
    "version": 3
   },
   "file_extension": ".py",
   "mimetype": "text/x-python",
   "name": "python",
   "nbconvert_exporter": "python",
   "pygments_lexer": "ipython3",
   "version": "3.7.6"
  }
 },
 "nbformat": 4,
 "nbformat_minor": 1
}