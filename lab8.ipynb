{
 "cells": [
  {
   "cell_type": "markdown",
   "metadata": {},
   "source": [
    "# Module INM378/IN3031: Digital Signal Processing and Audio Programming\n",
    "## Lab 8 - Time Series Prediction"
   ]
  },
  {
   "cell_type": "markdown",
   "metadata": {},
   "source": [
    "### 0. Setup dependencies"
   ]
  },
  {
   "cell_type": "code",
   "execution_count": null,
   "metadata": {},
   "outputs": [],
   "source": [
    "try:\n",
    "    import google.colab\n",
    "    import subprocess\n",
    "    import os.path\n",
    "    p = subprocess.run(['git', 'rev-parse', '--is-inside-work-tree'], stdout=subprocess.PIPE, universal_newlines=True)\n",
    "    if p.stdout == 'true\\n':\n",
    "        !git pull\n",
    "    else:\n",
    "        if not os.path.isdir('city_dsp_ap'):\n",
    "            !git clone --depth 1 -q https://github.com/jpauwels/city_dsp_ap.git\n",
    "        %cd city_dsp_ap\n",
    "except:\n",
    "    %cd city_dsp_ap"
   ]
  },
  {
   "cell_type": "code",
   "execution_count": null,
   "metadata": {},
   "outputs": [],
   "source": [
    "import numpy as np\n",
    "import matplotlib.pyplot as plt\n",
    "from scipy import signal, fft"
   ]
  },
  {
   "cell_type": "code",
   "execution_count": null,
   "metadata": {},
   "outputs": [],
   "source": [
    "plt.rcParams['figure.figsize'] = (13,6) # increase the default size of the plots"
   ]
  },
  {
   "cell_type": "markdown",
   "metadata": {},
   "source": [
    "### 1. Creating a harmonic model\n",
    "\n",
    "Read the data in `data/power_consumption.csv` with [`np.genfromtxt`](https://docs.scipy.org/doc/numpy/reference/generated/numpy.genfromtxt.html#numpy.genfromtxt). It is a subset of an individual househould electric **power consumption dataset**, which is available on [the UCI repository](https://archive.ics.uci.edu/ml/datasets/individual+household+electric+power+consumption). The first five lines of the file are displayed below. **Use appropriate options** for `genfromtext` to parse the file correctly. The first line of the file contains a header. You can either use the header to create a [structured array](https://docs.scipy.org/doc/numpy/user/basics.rec.html) with the `names` parameter or skip it with `skip_header=1`. Make sure you **understand** what the **output looks like** for both options, as it **will affect how you call the columns** of the array next."
   ]
  },
  {
   "cell_type": "code",
   "execution_count": null,
   "metadata": {},
   "outputs": [],
   "source": [
    "!head -n 5 data/power_consumption.csv"
   ]
  },
  {
   "cell_type": "code",
   "execution_count": null,
   "metadata": {},
   "outputs": [],
   "source": [
    "# write your code here"
   ]
  },
  {
   "cell_type": "markdown",
   "metadata": {},
   "source": [
    "The file contains voltage values that are read every minute. **How many days of data** are in the file?"
   ]
  },
  {
   "cell_type": "markdown",
   "metadata": {},
   "source": [
    "_answer here_"
   ]
  },
  {
   "cell_type": "markdown",
   "metadata": {},
   "source": [
    "**Select an excerpt** of voltage data (ending at least one day before the end) that you think will be periodic (e.g. a day or week). First **remove the mean** from it. Then calculate its **Fourier coefficients**. This is your **harmonic model** (at least the initial stage). Plot it."
   ]
  },
  {
   "cell_type": "code",
   "execution_count": null,
   "metadata": {},
   "outputs": [],
   "source": [
    "# write your code here"
   ]
  },
  {
   "cell_type": "markdown",
   "metadata": {},
   "source": [
    "### 2. Creating a prediction\n",
    "\n",
    "Set all **coefficients** smaller than a threshold **to 0** in the **harmonic model**. The idea is that small variations, typically at high frequenceis, are probably noise and will therefore not be repeated in the future. Check the plot to find an appropriate order of magnitude for the threshold value. Then regenerate the time-domain signal with the real-valued IFFT (using [`fft.irfft`](https://docs.scipy.org/doc/scipy/reference/generated/scipy.fft.irfft.html) like in lab 4). The **IFFT creates a periodic output** signal $\\hat{y}$. It can be repeated multiple times: $\\hat{y}[n+l] = \\hat{y}[n], \\forall n$ where $l$ is the length of the excerpt. This is your **prediction**."
   ]
  },
  {
   "cell_type": "code",
   "execution_count": null,
   "metadata": {},
   "outputs": [],
   "source": [
    "# write your code here"
   ]
  },
  {
   "cell_type": "markdown",
   "metadata": {},
   "source": [
    "### 3. Comparing and evaluating the prediction\n",
    "\n",
    "**Compare** the **predicted** signal with the **true** signal both during and after the excerpt by plotting the mean-normalised signal and the repeated prediction together. Any easy way to repeat your prediction is by using the function [`np.tile`](https://docs.scipy.org/doc/numpy/reference/generated/numpy.tile.html)."
   ]
  },
  {
   "cell_type": "code",
   "execution_count": null,
   "metadata": {},
   "outputs": [],
   "source": [
    "# write your code here"
   ]
  },
  {
   "cell_type": "markdown",
   "metadata": {},
   "source": [
    "Then calculate the **prediction error** by calculating the **root mean square error (RMSE)** between the repeated prediction $\\hat{y}$ and the true signal $y$\n",
    "\\begin{equation}\n",
    "\\mathrm{RMSE} = \\sqrt{\\sum_{n=l}^{m l-1}\\dfrac{(y[n]-\\hat{y}[n])^2}{(m-1)l}}\n",
    "\\end{equation}\n",
    "where $l$ is the length of the excerpt used to create the prediction and $m \\in \\mathbb{N}_{>1}$. The functions [`np.sqrt`](https://docs.scipy.org/doc/numpy/reference/generated/numpy.sqrt.html), [`np.mean`](https://docs.scipy.org/doc/numpy/reference/generated/numpy.mean.html) and [`np.power`](https://docs.scipy.org/doc/numpy/reference/generated/numpy.power.html) make it easy to calculate this.\n",
    "\n",
    "To estimate the prediction error for new data, do this for a **part** of the signal that was **not used in creating the prediction model**."
   ]
  },
  {
   "cell_type": "code",
   "execution_count": null,
   "metadata": {},
   "outputs": [],
   "source": [
    "# write your code here"
   ]
  },
  {
   "cell_type": "markdown",
   "metadata": {},
   "source": [
    "### 4. Effect of parameters on prediction\n",
    "\n",
    "**Vary** the **size** of the excerpt (try multiples of your initial size, e.g. 24 hours) and the **threshold** to study the **effect** on the prediction. It's useful to predict on a test range that is several times longer that the excerpt size to get more reliable results.  "
   ]
  },
  {
   "cell_type": "code",
   "execution_count": null,
   "metadata": {},
   "outputs": [],
   "source": [
    "# write your code here"
   ]
  },
  {
   "cell_type": "code",
   "execution_count": null,
   "metadata": {},
   "outputs": [],
   "source": []
  }
 ],
 "metadata": {
  "kernel_info": {
   "name": "python3"
  },
  "kernelspec": {
   "display_name": "Python 3",
   "language": "python",
   "name": "python3"
  },
  "language_info": {
   "codemirror_mode": {
    "name": "ipython",
    "version": 3
   },
   "file_extension": ".py",
   "mimetype": "text/x-python",
   "name": "python",
   "nbconvert_exporter": "python",
   "pygments_lexer": "ipython3",
   "version": "3.7.6"
  }
 },
 "nbformat": 4,
 "nbformat_minor": 1
}