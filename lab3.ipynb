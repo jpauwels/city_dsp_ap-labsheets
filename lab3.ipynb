{
 "cells": [
  {
   "cell_type": "markdown",
   "metadata": {},
   "source": [
    "# Module INM378/IN3031: Digital Signal Processing and Audio Programming\n",
    "## Lab 3 - Signal Correlation and the Fourier Transform"
   ]
  },
  {
   "cell_type": "markdown",
   "metadata": {},
   "source": [
    "### 0.  Setup dependencies"
   ]
  },
  {
   "cell_type": "code",
   "execution_count": null,
   "metadata": {},
   "outputs": [],
   "source": [
    "try:\n",
    "    import google.colab\n",
    "    import subprocess\n",
    "    import os.path\n",
    "    p = subprocess.run(['git', 'rev-parse', '--is-inside-work-tree'], stdout=subprocess.PIPE, universal_newlines=True)\n",
    "    if p.stdout == 'true\\n':\n",
    "        !git pull\n",
    "    else:\n",
    "        if not os.path.isdir('city_dsp_ap'):\n",
    "            !git clone --depth 1 -q https://github.com/jpauwels/city_dsp_ap.git\n",
    "        %cd city_dsp_ap\n",
    "except:\n",
    "    %cd city_dsp_ap"
   ]
  },
  {
   "cell_type": "code",
   "execution_count": null,
   "metadata": {},
   "outputs": [],
   "source": [
    "import numpy as np\n",
    "from scipy.io import wavfile\n",
    "from scipy import signal\n",
    "from dsp_ap.signals import AudioSignal\n",
    "from dsp_ap.animations import sine_approx"
   ]
  },
  {
   "cell_type": "markdown",
   "metadata": {},
   "source": [
    "### 1. Autocorrelation\n",
    "\n",
    "Calculate the autocorrelation of the signal `[1, 2, -3, 1]` by hand for the lags 0, 1, 2 and 3 (since the signal size is 4, these are all the meaningful lags). Calculate also the correlation with the [`np.dot`](https://docs.scipy.org/doc/numpy/reference/generated/numpy.dot.html) function of the `numpy` library.\n",
    "\n",
    "In order to get a time-shifted version of a signal, you can simply prepend a list of zeros to \"push back\" the samples in time (`shifted_samples = [0, 0] + samples`). Don't forget to append the same amount of zeros to the other signal in order to keep the length of both signals the same."
   ]
  },
  {
   "cell_type": "markdown",
   "metadata": {},
   "source": [
    "_answer here_"
   ]
  },
  {
   "cell_type": "code",
   "execution_count": null,
   "metadata": {},
   "outputs": [],
   "source": [
    "# write your code here"
   ]
  },
  {
   "cell_type": "markdown",
   "metadata": {},
   "source": [
    "### 2. Correlation coefficients\n",
    "\n",
    "Write a function that\n",
    "\n",
    "1. takes the path to a sound as argument\n",
    "2. reads the two stereo channels using [`wavfile.read`](https://docs.scipy.org/doc/scipy/reference/generated/scipy.io.wavfile.read.html) from `scipy.io`\n",
    "3. removes the mean from each channel (DC offset) using [`np.mean`](https://docs.scipy.org/doc/numpy/reference/generated/numpy.mean.html). Note: If you load a stereo file, you can use the following syntax to subtract the mean from the first channel: `a[:, 0] = a[:, 0] - u[:, 0]`, where `u` is the mean of the stereo data. Alternatively, look into the concept of [broadcasting](https://docs.scipy.org/doc/numpy/user/basics.broadcasting.html) arrays of different dimensions.\n",
    "4. calculates the correlation coefficient between channels using the function [`np.corrcoef`](https://docs.scipy.org/doc/numpy/reference/generated/numpy.corrcoef.html). Note: check the shape of samples produced by `wavfile.read` and make sure that you know whether the channels (variables) are in the rows or the columns.\n",
    "5. adds the two channels into one (and divide the result by 2 to avoid clipping)\n",
    "6. plays back the resulting single channel using the `play()` method of an `AudioSignal` class\n",
    "\n",
    "Test your function with the files `rockA.wav` and `rockB.wav`, available in the `audio` directory. The first file should show a correlation coefficient of $-0.5401559892784947$ and the second one $0.8480428245017878$ if your program works correctly."
   ]
  },
  {
   "cell_type": "code",
   "execution_count": null,
   "metadata": {},
   "outputs": [],
   "source": [
    "def correlate_channels(audiopath):\n",
    "    # AudioSignal(samples, samplerate).play()\n",
    "    pass\n",
    "\n",
    "correlate_channels('audio/rockA.wav')\n",
    "correlate_channels('audio/rockB.wav')"
   ]
  },
  {
   "cell_type": "code",
   "execution_count": null,
   "metadata": {},
   "outputs": [],
   "source": [
    "# write your code here"
   ]
  },
  {
   "cell_type": "markdown",
   "metadata": {},
   "source": [
    "### 3. Decomposing a signal into sinusoidal components"
   ]
  },
  {
   "cell_type": "markdown",
   "metadata": {},
   "source": [
    "Use the function `sin_approx` to approximate the following signals. What happens if you invert the signals (`signal = -1 * signal`), or add a phase (e.g. `signal = sin(2*pi*f*t + pi/4)`? Try and see the effect for\n",
    "\n",
    "1. sine signals of different frequencies (check previous lab sheet for examples on how to generate them)\n",
    "2. triangle wave signals (check [`signal.sawtooth`](https://docs.scipy.org/doc/scipy/reference/generated/scipy.signal.sawtooth.html) for help on how to generate one)\n",
    "3. rectangular wave signals (check [`signal.square`](https://docs.scipy.org/doc/scipy/reference/generated/scipy.signal.square.html) for help on how to generate one)\n",
    "\n",
    "In order to limit the computation and make the resulting animation clearer, we will limit ourselves to a low sampling rate of 100 Hz. Why would this reduce the computation?"
   ]
  },
  {
   "cell_type": "markdown",
   "metadata": {},
   "source": [
    "_answer here_"
   ]
  },
  {
   "cell_type": "markdown",
   "metadata": {},
   "source": [
    "#### Common parameters"
   ]
  },
  {
   "cell_type": "code",
   "execution_count": null,
   "metadata": {},
   "outputs": [],
   "source": [
    "samplerate = 100 # sample rate in Hz\n",
    "duration = 1 # in seconds\n",
    "timepoints = np.arange(duration * samplerate) / samplerate\n",
    "freq1 = 5 # freq in Hz\n",
    "freq2 = 13"
   ]
  },
  {
   "cell_type": "markdown",
   "metadata": {},
   "source": [
    "#### Sine waves"
   ]
  },
  {
   "cell_type": "code",
   "execution_count": null,
   "metadata": {},
   "outputs": [],
   "source": [
    "# write your code here"
   ]
  },
  {
   "cell_type": "markdown",
   "metadata": {},
   "source": [
    "#### Triangular waves"
   ]
  },
  {
   "cell_type": "code",
   "execution_count": null,
   "metadata": {},
   "outputs": [],
   "source": [
    "# write your code here"
   ]
  },
  {
   "cell_type": "markdown",
   "metadata": {},
   "source": [
    "#### Rectangular waves"
   ]
  },
  {
   "cell_type": "code",
   "execution_count": null,
   "metadata": {},
   "outputs": [],
   "source": [
    "# write your code here"
   ]
  },
  {
   "cell_type": "code",
   "execution_count": null,
   "metadata": {},
   "outputs": [],
   "source": []
  }
 ],
 "metadata": {
  "kernel_info": {
   "name": "python3"
  },
  "kernelspec": {
   "display_name": "Python 3",
   "language": "python",
   "name": "python3"
  },
  "language_info": {
   "codemirror_mode": {
    "name": "ipython",
    "version": 3
   },
   "file_extension": ".py",
   "mimetype": "text/x-python",
   "name": "python",
   "nbconvert_exporter": "python",
   "pygments_lexer": "ipython3",
   "version": "3.7.6"
  }
 },
 "nbformat": 4,
 "nbformat_minor": 1
}
