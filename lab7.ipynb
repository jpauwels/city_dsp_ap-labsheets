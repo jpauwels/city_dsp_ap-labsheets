{
 "cells": [
  {
   "cell_type": "markdown",
   "metadata": {},
   "source": [
    "# Module INM378/IN3031: Digital Signal Processing and Audio Programming\n",
    "## Lab 7 - Real-Time DSP in Python"
   ]
  },
  {
   "cell_type": "markdown",
   "metadata": {},
   "source": [
    "### 0. Setup dependencies"
   ]
  },
  {
   "cell_type": "code",
   "execution_count": null,
   "metadata": {},
   "outputs": [],
   "source": [
    "try:\n",
    "    import google.colab\n",
    "    import subprocess\n",
    "    import os.path\n",
    "    p = subprocess.run(['git', 'rev-parse', '--is-inside-work-tree'], stdout=subprocess.PIPE, universal_newlines=True)\n",
    "    if p.stdout == 'true\\n':\n",
    "        !git pull\n",
    "    else:\n",
    "        if not os.path.isdir('city_dsp_ap'):\n",
    "            !git clone --depth 1 -q https://github.com/jpauwels/city_dsp_ap.git\n",
    "        %cd city_dsp_ap\n",
    "except:\n",
    "    %cd city_dsp_ap"
   ]
  },
  {
   "cell_type": "code",
   "execution_count": null,
   "metadata": {},
   "outputs": [],
   "source": [
    "import numpy as np\n",
    "from scipy import signal\n",
    "from scipy.io import wavfile\n",
    "from IPython.display import Audio, display\n",
    "import matplotlib.pyplot as plt"
   ]
  },
  {
   "cell_type": "markdown",
   "metadata": {},
   "source": [
    "### 1. Filter coefficient interpolation\n",
    "\n",
    "One easy way to create a dynamically controllable filter is to take two stationary filters and interpolate between them, where the control signal determines how much each of the two filters contributes to the final filter. We can directly interpolate the **filter coefficients B (and optionally A for IIR filters)** , where the result will be a new B (and A) representing the new filter.\n",
    "\n",
    "If you need a refresher about the technique of linear interpolation, you can consult [Wikipedia](https://en.wikipedia.org/wiki/Linear_interpolation). As a simple example, suppose we have a control signal ranging between $0$ and $1$. Assume that we want a control value of $0$ to correspond to a FIR filter 1 with coefficients $B_1$ and a control value of $1$ to correspond to a FIR filter 2 with coefficients $B_2$. Then we can create a filter for control values between 0 and 1 by taking a fraction of filter 1's coefficients and the complementary fraction of filter 2's coefficients such that both fractions sum to 1:\n",
    "$B(x) = (1-x) B_1 + x B_2$. Note that $B(0) = B_1$ and $B(1) = B_2$. A filter for a control value of $0.4$ would be $B(0.4)=0.6 B_1 + 0.4 B_2$, for instance. The full formula for arbitrary ranges of control values can be found on Wikipedia."
   ]
  },
  {
   "cell_type": "code",
   "execution_count": null,
   "metadata": {},
   "outputs": [],
   "source": [
    "samplerate, samples = wavfile.read('audio/rockB.wav')\n",
    "mono_samples = np.mean(samples, axis=-1)"
   ]
  },
  {
   "cell_type": "markdown",
   "metadata": {},
   "source": [
    "Now create two different FIR filters of the same length (say $21$, so of order $20$) using [`firls`](https://docs.scipy.org/doc/scipy/reference/generated/scipy.signal.firls.html) from the `scipy.signal` library (check lab 5 for an example, if you need). These filters can be different in cut-off frequencies or different types. Then create multiple new filters from these two filters by linearly interpolating the filter coefficients for multiple interpolation values. Smoothly varying the interpolation values will give you a smooth transition between two filters, which will come in handy for the PG coursework.\n",
    "\n",
    "Test your implementation by applying the filters to `mono_samples`, loaded from the audio file above. You can also use the `plot_filter` function of lab 5 (replicated below) to visualise the evolution of the filter responses."
   ]
  },
  {
   "cell_type": "code",
   "execution_count": null,
   "metadata": {},
   "outputs": [],
   "source": [
    "def plot_filter(b, a, samplerate=None):\n",
    "    w, h = signal.freqz(b, a)\n",
    "\n",
    "    fig, ax1 = plt.subplots()\n",
    "    ax1.set_title('Digital filter frequency response')\n",
    "    freqs = w / (2*np.pi)\n",
    "    if samplerate:\n",
    "        freqs *= samplerate\n",
    "        ax1.set_xlabel('frequency [Hz]')\n",
    "    else:\n",
    "        ax1.set_xlabel('normalised frequency [cycles/sample]')\n",
    "\n",
    "    ax1.plot(freqs, 20 * np.log10(abs(h)), 'b')\n",
    "    ax1.set_ylabel('amplitude [dB]', color='b')\n",
    "\n",
    "    ax2 = ax1.twinx()\n",
    "    angles = np.unwrap(np.angle(h))\n",
    "    ax2.plot(freqs, angles, 'g')\n",
    "    ax2.set_ylabel('angle [radians]', color='g')\n",
    "    ax2.grid()\n",
    "    ax2.axis('tight')\n",
    "    plt.show()"
   ]
  },
  {
   "cell_type": "code",
   "execution_count": null,
   "metadata": {},
   "outputs": [],
   "source": [
    "# write your code here"
   ]
  },
  {
   "cell_type": "markdown",
   "metadata": {},
   "source": [
    "### 2. Real-time convolution\n",
    "\n",
    "If we want to apply a dynamic FIR filter to a signal (as in the PG coursework), we can't just apply [`convolve`](https://docs.scipy.org/doc/scipy/reference/generated/scipy.signal.convolve.html) from `scipy.signal`, since that function only takes one, static set of filter coefficients B. We therefore need to implement convolution ourselves in a for loop, based on its definition: \n",
    "\\begin{equation}\n",
    "\\mathrm{conv}(filter, signal)[t] = \\Sigma_{n=0}^{len(signal)} filter[t-n] \\; signal[n]\n",
    "\\end{equation}\n",
    "\n",
    "This way, we can change the filter coefficients in ever iteration of the for loop. We're not going to do that here, but it's part of the PG coursework. In this exercise, we're just going to reimplement a normal convolution. Complete the function `convolution_loop` based on the definition of the convolution. Remember that the output will be longer than the input (equal to $len(signal) + len(filter) - 1$).\n",
    "\n",
    "The easiest way to implement the convolution is to let the shorter filter slide over the longer signal by taking consecutive slices of the signal using the `[start:end]` syntax. The [`np.dot`](https://docs.scipy.org/doc/numpy/reference/generated/numpy.dot.html) function can then be used to sum the products of the lined-up signal slices and the filter, thereby producing the corresponding convolution output. You can use the function [`np.flip`](https://docs.scipy.org/doc/numpy/reference/generated/numpy.flip.html) to reverse the filter coefficients beforehand. To handle the beginning and end of the convolution, where filter and signal only partially overlap, the signal should be extended with zeros at the beginning and end. Check [`np.pad`](https://docs.scipy.org/doc/numpy/reference/generated/numpy.pad.html) for information on how to do this."
   ]
  },
  {
   "cell_type": "code",
   "execution_count": null,
   "metadata": {},
   "outputs": [],
   "source": [
    "def convolution_loop(filt_coeff, samples):\n",
    "    filt_len = len(filt_coeff)\n",
    "    sig_len = len(samples)\n",
    "    conv_len = sig_len + filt_len - 1\n",
    "    filtered_samples = np.zeros(conv_len)\n",
    "    return filtered_samples"
   ]
  },
  {
   "cell_type": "markdown",
   "metadata": {},
   "source": [
    "Since this task is more than half of question 1 of the PG coursework, the model solution won't be published until after the coursework deadline, but it's easy to check your implementation by comparing it to `scipy`'s implementation."
   ]
  },
  {
   "cell_type": "code",
   "execution_count": null,
   "metadata": {},
   "outputs": [],
   "source": [
    "samplerate, samples = wavfile.read('audio/rockB.wav')\n",
    "mono_samples = np.mean(samples, axis=-1)\n",
    "\n",
    "filt_len = 21\n",
    "filt_coeff = signal.firls(filt_len, [0, 500, 700, samplerate/2], [1, 1, 0, 0], fs=samplerate)"
   ]
  },
  {
   "cell_type": "markdown",
   "metadata": {},
   "source": [
    "Given the audio signal and filter above, we can compare the output of our manually crafted convolution with the `convolve` function of `scipy.signal`. We use the [`np.allclose`](https://docs.scipy.org/doc/numpy/reference/generated/numpy.allclose.html) function to compare both results element-by-element. Because the different implementations can lead to differences in rounding errors, this function doesn't check if all corresponding elements are identical, but only if they are similar up to the machine precision."
   ]
  },
  {
   "cell_type": "code",
   "execution_count": null,
   "metadata": {},
   "outputs": [],
   "source": [
    "ours = convolution_loop(filt_coeff, mono_samples)\n",
    "reference = signal.convolve(filt_coeff, mono_samples)\n",
    "print('Both implementations give equal results: {}'.format(np.allclose(ours, reference)))"
   ]
  },
  {
   "cell_type": "code",
   "execution_count": null,
   "metadata": {},
   "outputs": [],
   "source": []
  }
 ],
 "metadata": {
  "kernel_info": {
   "name": "python3"
  },
  "kernelspec": {
   "display_name": "Python 3",
   "language": "python",
   "name": "python3"
  },
  "language_info": {
   "codemirror_mode": {
    "name": "ipython",
    "version": 3
   },
   "file_extension": ".py",
   "mimetype": "text/x-python",
   "name": "python",
   "nbconvert_exporter": "python",
   "pygments_lexer": "ipython3",
   "version": "3.7.6"
  }
 },
 "nbformat": 4,
 "nbformat_minor": 1
}
